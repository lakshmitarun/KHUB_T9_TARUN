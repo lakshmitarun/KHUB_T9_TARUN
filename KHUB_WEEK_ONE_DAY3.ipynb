{
  "cells": [
    {
      "cell_type": "markdown",
      "metadata": {
        "id": "view-in-github",
        "colab_type": "text"
      },
      "source": [
        "<a href=\"https://colab.research.google.com/github/lakshmitarun/KHUB_T9_TARUN/blob/main/KHUB_WEEK_ONE_DAY3.ipynb\" target=\"_parent\"><img src=\"https://colab.research.google.com/assets/colab-badge.svg\" alt=\"Open In Colab\"/></a>"
      ]
    },
    {
      "cell_type": "markdown",
      "metadata": {
        "id": "G8MvzfKgKEDH"
      },
      "source": [
        "string"
      ]
    },
    {
      "cell_type": "markdown",
      "metadata": {
        "id": "JMTQuWgjKPNq"
      },
      "source": [
        "string is the sequence of the characters that written in the quotes like single or double quotes, its include the letter and the numbers its immutable it cannot change single characters\n",
        "its used tgo display the text"
      ]
    },
    {
      "cell_type": "code",
      "execution_count": null,
      "metadata": {
        "colab": {
          "base_uri": "https://localhost:8080/"
        },
        "id": "mkPP0FWHL-_c",
        "outputId": "18afb9f9-e64e-4825-8137-dc213d610c53"
      },
      "outputs": [
        {
          "name": "stdout",
          "output_type": "stream",
          "text": [
            "i am tarun jr developer in khub from team 9\n"
          ]
        }
      ],
      "source": [
        "print('i am tarun jr developer in khub from team 9')"
      ]
    },
    {
      "cell_type": "code",
      "execution_count": null,
      "metadata": {
        "colab": {
          "base_uri": "https://localhost:8080/"
        },
        "id": "LcvPJ4OaLtt3",
        "outputId": "8c3b4128-883b-4745-fbd9-91e259482ee2"
      },
      "outputs": [
        {
          "name": "stdout",
          "output_type": "stream",
          "text": [
            "skills html and css \n"
          ]
        }
      ],
      "source": [
        "print(\"skills html and css \")"
      ]
    },
    {
      "cell_type": "markdown",
      "metadata": {
        "id": "BSL-YbqXNJ-m"
      },
      "source": [
        "assign the variable the string"
      ]
    },
    {
      "cell_type": "code",
      "execution_count": null,
      "metadata": {
        "colab": {
          "base_uri": "https://localhost:8080/"
        },
        "id": "Fx0prmUQNVeD",
        "outputId": "a3d8ad8b-970a-4897-aaf2-b030022572ba"
      },
      "outputs": [
        {
          "name": "stdout",
          "output_type": "stream",
          "text": [
            "tarun \n"
          ]
        }
      ],
      "source": [
        "a= \"tarun \"\n",
        "print(a)"
      ]
    },
    {
      "cell_type": "markdown",
      "metadata": {
        "id": "3eLN3EyxNmwU"
      },
      "source": [
        "string in the arrays"
      ]
    },
    {
      "cell_type": "code",
      "execution_count": null,
      "metadata": {
        "colab": {
          "base_uri": "https://localhost:8080/"
        },
        "id": "DhUrXy4qNy2P",
        "outputId": "fec4eebd-0014-4913-be53-5ecff03cef2f"
      },
      "outputs": [
        {
          "name": "stdout",
          "output_type": "stream",
          "text": [
            "t\n"
          ]
        }
      ],
      "source": [
        "a=\"hello i am tarun \"\n",
        "print(a[11])"
      ]
    },
    {
      "cell_type": "markdown",
      "metadata": {
        "id": "GPmTdMv8OaPW"
      },
      "source": [
        "strings in loops"
      ]
    },
    {
      "cell_type": "code",
      "execution_count": null,
      "metadata": {
        "colab": {
          "base_uri": "https://localhost:8080/"
        },
        "id": "5zw8XZHeOeDp",
        "outputId": "99d6d41a-282d-47fe-ccaf-74d4b917eacd"
      },
      "outputs": [
        {
          "name": "stdout",
          "output_type": "stream",
          "text": [
            "t\n",
            "a\n",
            "r\n",
            "u\n",
            "n\n"
          ]
        }
      ],
      "source": [
        "for x in \"tarun\":\n",
        "   print(x)"
      ]
    },
    {
      "cell_type": "code",
      "execution_count": null,
      "metadata": {
        "colab": {
          "base_uri": "https://localhost:8080/"
        },
        "id": "JJQzF77WPPkt",
        "outputId": "47e2f9e0-7bf8-4a5b-94ff-a5fb6edda9d8"
      },
      "outputs": [
        {
          "name": "stdout",
          "output_type": "stream",
          "text": [
            "38\n"
          ]
        }
      ],
      "source": [
        "a = \"tarun today topic is the python basics\"\n",
        "print(len(a))"
      ]
    },
    {
      "cell_type": "markdown",
      "metadata": {
        "id": "Q6Sa4eYdRffB"
      },
      "source": [
        "slicing sting in the python that exract particular part from the string using syntax like string[start:stop:step]"
      ]
    },
    {
      "cell_type": "code",
      "execution_count": null,
      "metadata": {
        "colab": {
          "base_uri": "https://localhost:8080/"
        },
        "id": "YZSvKALGSQ8-",
        "outputId": "39f7bca9-6dae-47c9-ee59-10f77e139314"
      },
      "outputs": [
        {
          "name": "stdout",
          "output_type": "stream",
          "text": [
            "i am \n"
          ]
        }
      ],
      "source": [
        "a= 'i am tarun jr developer in khub from team 9'\n",
        "print(a[0:5])\n"
      ]
    },
    {
      "cell_type": "code",
      "execution_count": null,
      "metadata": {
        "colab": {
          "base_uri": "https://localhost:8080/"
        },
        "id": "Gerb7Y0eS6zp",
        "outputId": "8a4bd222-41ff-47e9-8da1-2b23b5f5281d"
      },
      "outputs": [
        {
          "name": "stdout",
          "output_type": "stream",
          "text": [
            "run jr develo\n"
          ]
        }
      ],
      "source": [
        "a= 'i am tarun jr developer in khub from team 9'\n",
        "print(a[7:20:1])\n"
      ]
    },
    {
      "cell_type": "code",
      "execution_count": null,
      "metadata": {
        "colab": {
          "base_uri": "https://localhost:8080/"
        },
        "id": "i879IEKPTVNP",
        "outputId": "d36686e8-5f84-4ddf-8091-ecb6ec3867f9"
      },
      "outputs": [
        {
          "name": "stdout",
          "output_type": "stream",
          "text": [
            "team \n"
          ]
        }
      ],
      "source": [
        "a= 'i am tarun jr developer in khub from team 9'\n",
        "print(a[-6:-1:])\n"
      ]
    },
    {
      "cell_type": "markdown",
      "metadata": {
        "id": "R2gSfu4MW4OZ"
      },
      "source": [
        "modifying string"
      ]
    },
    {
      "cell_type": "code",
      "execution_count": null,
      "metadata": {
        "colab": {
          "base_uri": "https://localhost:8080/"
        },
        "id": "yShFFx-tW8QI",
        "outputId": "ac71b8dc-f7a7-4e76-ba5a-d09ba008bc0c"
      },
      "outputs": [
        {
          "name": "stdout",
          "output_type": "stream",
          "text": [
            "hello tarun \n"
          ]
        }
      ],
      "source": [
        "int= \"HELLO TARUN \"\n",
        "print(int.lower())"
      ]
    },
    {
      "cell_type": "code",
      "execution_count": null,
      "metadata": {
        "colab": {
          "base_uri": "https://localhost:8080/"
        },
        "id": "a1TV9_s8XakR",
        "outputId": "8e2c90b0-d1d1-4531-f9c4-3efdf042409c"
      },
      "outputs": [
        {
          "name": "stdout",
          "output_type": "stream",
          "text": [
            "HELLO TARUN \n"
          ]
        }
      ],
      "source": [
        "int= \"hello tarun \"\n",
        "print(int.upper())"
      ]
    },
    {
      "cell_type": "code",
      "execution_count": null,
      "metadata": {
        "colab": {
          "base_uri": "https://localhost:8080/"
        },
        "id": "5Onl9BfkXik-",
        "outputId": "787d9735-2dff-4e36-fd87-a25ac4ac9891"
      },
      "outputs": [
        {
          "name": "stdout",
          "output_type": "stream",
          "text": [
            "['HELLO', 'TARUN']\n"
          ]
        }
      ],
      "source": [
        "int= \"     HELLO TARUN   \"\n",
        "print(int.split())"
      ]
    },
    {
      "cell_type": "code",
      "execution_count": null,
      "metadata": {
        "colab": {
          "base_uri": "https://localhost:8080/"
        },
        "id": "TWsw98ZFXtm4",
        "outputId": "bb18a528-6da4-4fc8-ee0a-1c1555ffaa61"
      },
      "outputs": [
        {
          "name": "stdout",
          "output_type": "stream",
          "text": [
            "HELLO TARUN\n"
          ]
        }
      ],
      "source": [
        "int= \".....HELLO TARUN....\"\n",
        "print(int.strip('.'))"
      ]
    },
    {
      "cell_type": "code",
      "execution_count": null,
      "metadata": {
        "colab": {
          "base_uri": "https://localhost:8080/"
        },
        "id": "vQtxgK6zYHNv",
        "outputId": "49ef5af6-f4c0-43cf-ca75-01da51d24864"
      },
      "outputs": [
        {
          "name": "stdout",
          "output_type": "stream",
          "text": [
            "GOOD TARUN \n"
          ]
        }
      ],
      "source": [
        "int= \"HELLO TARUN \"\n",
        "print(int.replace('HELLO','GOOD'))"
      ]
    },
    {
      "cell_type": "markdown",
      "metadata": {
        "id": "CO5AYVYfZxO0"
      },
      "source": [
        "CONcatenate string: adding the two more string in the one string"
      ]
    },
    {
      "cell_type": "code",
      "execution_count": null,
      "metadata": {
        "colab": {
          "base_uri": "https://localhost:8080/"
        },
        "id": "iFpbgsHGaYGd",
        "outputId": "3275562d-03c2-4ba8-af2f-2a69c85db298"
      },
      "outputs": [
        {
          "name": "stdout",
          "output_type": "stream",
          "text": [
            "tarun pro player\n"
          ]
        }
      ],
      "source": [
        "a=\"tarun\"\n",
        "b=\" pro player\"\n",
        "print(a+b)"
      ]
    },
    {
      "cell_type": "code",
      "execution_count": null,
      "metadata": {
        "colab": {
          "base_uri": "https://localhost:8080/"
        },
        "id": "mVJy5vRQars2",
        "outputId": "54328470-a820-42b8-d2f4-9f3909f3d838"
      },
      "outputs": [
        {
          "name": "stdout",
          "output_type": "stream",
          "text": [
            "tarun  pro player\n"
          ]
        }
      ],
      "source": [
        "a=\"tarun\"\n",
        "b=\" pro player\"\n",
        "c= a + \" \" + b\n",
        "print(c)"
      ]
    },
    {
      "cell_type": "markdown",
      "metadata": {
        "id": "xHGTVu2DcJdq"
      },
      "source": [
        "Format strings let you insert values (like variables, numbers, results) into a string it will  clean and readable way.\n",
        "\n"
      ]
    },
    {
      "cell_type": "code",
      "execution_count": null,
      "metadata": {
        "colab": {
          "base_uri": "https://localhost:8080/"
        },
        "id": "5qN-wMNocQXV",
        "outputId": "373642aa-a48d-4e70-a963-b3ddbd935b3f"
      },
      "outputs": [
        {
          "name": "stdout",
          "output_type": "stream",
          "text": [
            " my name is tarun 19\n"
          ]
        }
      ],
      "source": [
        "age =\"19\"\n",
        "name =\" my name is tarun \" +age\n",
        "print(name)"
      ]
    },
    {
      "cell_type": "code",
      "execution_count": null,
      "metadata": {
        "colab": {
          "base_uri": "https://localhost:8080/"
        },
        "id": "mU4_iKJbcicW",
        "outputId": "0d1b338d-2158-4a7a-8b83-641807a6dd3c"
      },
      "outputs": [
        {
          "name": "stdout",
          "output_type": "stream",
          "text": [
            " my name is tarun,  my 19 year old\n"
          ]
        }
      ],
      "source": [
        "age =\"19\"\n",
        "name = f\" my name is tarun,  my {age} year old\"\n",
        "print(name)"
      ]
    },
    {
      "cell_type": "markdown",
      "metadata": {
        "id": "HBCtCEA5eQTO"
      },
      "source": [
        "An escape character we can use special characters inside a string  characters that normally can't be written directly (like newlines, tabs, quotes"
      ]
    },
    {
      "cell_type": "code",
      "execution_count": null,
      "metadata": {
        "colab": {
          "base_uri": "https://localhost:8080/"
        },
        "id": "k5RvJOy_eYtj",
        "outputId": "179cf52a-67f2-4f61-895a-15882249a1bf"
      },
      "outputs": [
        {
          "name": "stdout",
          "output_type": "stream",
          "text": [
            " your \n",
            " game\n"
          ]
        }
      ],
      "source": [
        "game =\" your \\n game\"|\n",
        "print(game)"
      ]
    },
    {
      "cell_type": "code",
      "execution_count": null,
      "metadata": {
        "colab": {
          "base_uri": "https://localhost:8080/"
        },
        "id": "R4AYBzltgXuN",
        "outputId": "38c95333-898f-4901-9093-b78d7372b2bc"
      },
      "outputs": [
        {
          "name": "stdout",
          "output_type": "stream",
          "text": [
            " your game is \"over\"\n"
          ]
        }
      ],
      "source": [
        "game =\" your game is \\\"over\\\"\"\n",
        "print(game)"
      ]
    },
    {
      "cell_type": "markdown",
      "metadata": {
        "id": "SALRR7ulkmns"
      },
      "source": [
        "string method is a built-in function that you can call on a string object to perform common tasks, like changing case, finding text, or modifying the string.\n",
        "\n"
      ]
    },
    {
      "cell_type": "code",
      "execution_count": null,
      "metadata": {
        "colab": {
          "base_uri": "https://localhost:8080/"
        },
        "id": "4mB-TB8ckoWk",
        "outputId": "e62bba3a-680b-4b03-8f7f-b6ee16864d72"
      },
      "outputs": [
        {
          "name": "stdout",
          "output_type": "stream",
          "text": [
            "hello\n"
          ]
        }
      ],
      "source": [
        "text = \"Hello\"\n",
        "print(text.lower())\n"
      ]
    },
    {
      "cell_type": "code",
      "execution_count": null,
      "metadata": {
        "colab": {
          "base_uri": "https://localhost:8080/"
        },
        "id": "n2_0QIdakxwr",
        "outputId": "a3503280-3658-41bd-c66b-4db55cc6656d"
      },
      "outputs": [
        {
          "name": "stdout",
          "output_type": "stream",
          "text": [
            "Python basics\n"
          ]
        }
      ],
      "source": [
        "text = \"python BASICS\"\n",
        "print(text.capitalize())\n"
      ]
    },
    {
      "cell_type": "markdown",
      "metadata": {
        "id": "MgglV6lRlSm9"
      },
      "source": [
        "string Boolean refers to how a string evaluates to True or False when used in conditions or logic.\n",
        "\n"
      ]
    },
    {
      "cell_type": "code",
      "execution_count": null,
      "metadata": {
        "colab": {
          "base_uri": "https://localhost:8080/"
        },
        "id": "-k436zkHmFNt",
        "outputId": "196b4ec7-38bc-427f-f0a1-159cfad3a6be"
      },
      "outputs": [
        {
          "name": "stdout",
          "output_type": "stream",
          "text": [
            "b is not greater than\n"
          ]
        }
      ],
      "source": [
        "a = 200\n",
        "b = 33\n",
        "\n",
        "if b > a:\n",
        "  print(\"b is greater than a\")\n",
        "else:\n",
        "  print(\"b is not greater than\")"
      ]
    },
    {
      "cell_type": "markdown",
      "metadata": {
        "id": "OGkyvQORnjNw"
      },
      "source": [
        "An operator in Python is a special symbol or keyword used to perform operations on values or variables.\n",
        "\n"
      ]
    },
    {
      "cell_type": "code",
      "execution_count": null,
      "metadata": {
        "colab": {
          "base_uri": "https://localhost:8080/"
        },
        "id": "ZqGGGRoKnlDt",
        "outputId": "f6742ceb-3390-4a91-ee40-4fb3f82bbd03"
      },
      "outputs": [
        {
          "name": "stdout",
          "output_type": "stream",
          "text": [
            "a + b = 47\n",
            "a - b = -3\n",
            "a * b = 550\n",
            "a or b = 22\n",
            "a % b = 22\n"
          ]
        }
      ],
      "source": [
        "a = 22\n",
        "b = 25\n",
        "\n",
        "print(\"a + b =\", a + b)\n",
        "print(\"a - b =\", a - b)\n",
        "print(\"a * b =\", a * b)\n",
        "print(\"a or b =\", a or b)\n",
        "print(\"a % b =\", a % b)\n"
      ]
    },
    {
      "cell_type": "markdown",
      "metadata": {
        "id": "lB9L7uEVpi2G"
      },
      "source": [
        "A list is an ordered, changeable collection of items in Python, written using square brackets []."
      ]
    },
    {
      "cell_type": "code",
      "execution_count": null,
      "metadata": {
        "colab": {
          "base_uri": "https://localhost:8080/"
        },
        "id": "f97Q6cGlqRTK",
        "outputId": "a38da705-6ba7-4d61-912f-02f6bf4fbe0d"
      },
      "outputs": [
        {
          "name": "stdout",
          "output_type": "stream",
          "text": [
            "apple\n",
            "['apple', 'cherry', 'mango', 'orange']\n"
          ]
        }
      ],
      "source": [
        "fruits = [\"apple\", \"banana\", \"cherry\", \"mango\"]\n",
        "print(fruits[0])\n",
        "fruits.append(\"orange\")\n",
        "fruits.remove(\"banana\")\n",
        "print(fruits)\n"
      ]
    },
    {
      "cell_type": "code",
      "execution_count": null,
      "metadata": {
        "colab": {
          "base_uri": "https://localhost:8080/"
        },
        "id": "wqdv3gits3U6",
        "outputId": "484e1784-3c9f-4328-fae1-42810b7738a1"
      },
      "outputs": [
        {
          "name": "stdout",
          "output_type": "stream",
          "text": [
            "Merge & Sort: [1, 2, 3, 5, 6, 9]\n"
          ]
        }
      ],
      "source": [
        "a = [5, 2, 9]\n",
        "b = [1, 6, 3]\n",
        "merged = a + b\n",
        "merged.sort()\n",
        "print(\"Merge & Sort:\", merged)\n"
      ]
    },
    {
      "cell_type": "code",
      "execution_count": null,
      "metadata": {
        "colab": {
          "base_uri": "https://localhost:8080/"
        },
        "id": "v2I_l-_7tO0-",
        "outputId": "43134165-44d6-4da5-a878-4a24ccfb3dc7"
      },
      "outputs": [
        {
          "name": "stdout",
          "output_type": "stream",
          "text": [
            "Reverse Sort: [9, 7, 5, 3, 1]\n"
          ]
        }
      ],
      "source": [
        "nums = [7, 3, 9, 1, 5]\n",
        "nums.sort(reverse=True)\n",
        "print(\"Reverse Sort:\", nums)\n"
      ]
    },
    {
      "cell_type": "markdown",
      "metadata": {
        "id": "LEVdIZ9Burh4"
      },
      "source": [
        "List methods are built-in functions in Python that allow you to manipulate, modify, search, or manage list data"
      ]
    },
    {
      "cell_type": "code",
      "execution_count": null,
      "metadata": {
        "colab": {
          "base_uri": "https://localhost:8080/"
        },
        "id": "m1HceHk7t7rq",
        "outputId": "e5676379-fd96-401c-e2a6-1ab6e1d6d793"
      },
      "outputs": [
        {
          "name": "stdout",
          "output_type": "stream",
          "text": [
            "[1, 2, 3, 4]\n"
          ]
        }
      ],
      "source": [
        "a = [1, 2, 3]\n",
        "a.append(4)\n",
        "print(a)\n"
      ]
    },
    {
      "cell_type": "code",
      "execution_count": null,
      "metadata": {
        "colab": {
          "base_uri": "https://localhost:8080/"
        },
        "id": "SA8CMoxit-K5",
        "outputId": "9e734156-708d-4daa-bf89-80fe12f1a8d2"
      },
      "outputs": [
        {
          "name": "stdout",
          "output_type": "stream",
          "text": [
            "[1, 2, 3, 4]\n"
          ]
        }
      ],
      "source": [
        "a = [1, 3, 4]\n",
        "a.insert(1, 2)\n",
        "print(a)\n"
      ]
    },
    {
      "cell_type": "code",
      "execution_count": null,
      "metadata": {
        "colab": {
          "base_uri": "https://localhost:8080/"
        },
        "id": "JNYqmX40uB2K",
        "outputId": "24b3c335-5db0-43fb-919d-7fd980e5fde5"
      },
      "outputs": [
        {
          "name": "stdout",
          "output_type": "stream",
          "text": [
            "[1, 2, 3, 4]\n"
          ]
        }
      ],
      "source": [
        "a = [1, 2]\n",
        "a.extend([3, 4])\n",
        "print(a)\n"
      ]
    },
    {
      "cell_type": "code",
      "execution_count": null,
      "metadata": {
        "colab": {
          "base_uri": "https://localhost:8080/"
        },
        "id": "s2yFCczSuESD",
        "outputId": "52db32e7-5d10-4036-d04e-c6d1a6d80e51"
      },
      "outputs": [
        {
          "name": "stdout",
          "output_type": "stream",
          "text": [
            "[1, 3, 2]\n"
          ]
        }
      ],
      "source": [
        "a = [1, 2, 3, 2]\n",
        "a.remove(2)\n",
        "print(a)\n"
      ]
    },
    {
      "cell_type": "code",
      "execution_count": null,
      "metadata": {
        "colab": {
          "base_uri": "https://localhost:8080/"
        },
        "id": "V5itaXvquGcb",
        "outputId": "3aca87cc-b1d2-4235-f692-222f8a93ddc9"
      },
      "outputs": [
        {
          "name": "stdout",
          "output_type": "stream",
          "text": [
            "[1, 3]\n"
          ]
        }
      ],
      "source": [
        "a = [1, 2, 3]\n",
        "a.pop(1)\n",
        "print(a)\n"
      ]
    },
    {
      "cell_type": "code",
      "execution_count": null,
      "metadata": {
        "colab": {
          "base_uri": "https://localhost:8080/"
        },
        "id": "DgeuZIFfuLb3",
        "outputId": "f07013ee-ca6f-44a0-d901-ea36d467d2d5"
      },
      "outputs": [
        {
          "name": "stdout",
          "output_type": "stream",
          "text": [
            "[]\n"
          ]
        }
      ],
      "source": [
        "a = [1, 2, 3]\n",
        "a.clear()\n",
        "print(a)\n"
      ]
    },
    {
      "cell_type": "code",
      "execution_count": null,
      "metadata": {
        "colab": {
          "base_uri": "https://localhost:8080/"
        },
        "id": "vp49x6vkuSen",
        "outputId": "5941b2d2-77cd-4f81-da1c-d655a121b74f"
      },
      "outputs": [
        {
          "name": "stdout",
          "output_type": "stream",
          "text": [
            "2\n"
          ]
        }
      ],
      "source": [
        "a = [1, 2, 2, 3]\n",
        "print(a.count(2))\n"
      ]
    },
    {
      "cell_type": "code",
      "execution_count": null,
      "metadata": {
        "colab": {
          "base_uri": "https://localhost:8080/"
        },
        "id": "dfKMmh_vuTzL",
        "outputId": "8c83c1b7-f4b8-4713-8fc9-5e4fd3ea85f9"
      },
      "outputs": [
        {
          "name": "stdout",
          "output_type": "stream",
          "text": [
            "[1, 2, 3, 4]\n"
          ]
        }
      ],
      "source": [
        "a = [3, 1, 4, 2]\n",
        "a.sort()\n",
        "print(a)\n"
      ]
    },
    {
      "cell_type": "markdown",
      "metadata": {
        "id": "gxqEiYMhsMVT"
      },
      "source": [
        " tuple is an ordered, unchangeable (immutable) collection of values in Python, defined using parentheses ()."
      ]
    },
    {
      "cell_type": "code",
      "execution_count": null,
      "metadata": {
        "colab": {
          "base_uri": "https://localhost:8080/"
        },
        "id": "bwMB-eqtrIHi",
        "outputId": "7db2c3be-ec55-498c-bdb2-581aecd15d61"
      },
      "outputs": [
        {
          "name": "stdout",
          "output_type": "stream",
          "text": [
            "10\n"
          ]
        }
      ],
      "source": [
        "coordinates = (10, 20)\n",
        "print(coordinates[0])\n"
      ]
    },
    {
      "cell_type": "markdown",
      "metadata": {
        "id": "WLW_qAvyvPhD"
      },
      "source": [
        " set is an unordered, unindexed, and mutable collection of unique elements, defined using curly braces {} or the set() function.\n",
        "\n"
      ]
    },
    {
      "cell_type": "markdown",
      "metadata": {
        "id": "hzhoVhZjxFqH"
      },
      "source": [
        "No duplicates allowed\n",
        "\n",
        "Unordered (no indexing/slicing)\n",
        "\n",
        "Mutable (you can add/remove items)\n",
        "\n",
        "Elements must be immutable (like numbers, strings, tuples)\n",
        "\n"
      ]
    },
    {
      "cell_type": "code",
      "execution_count": null,
      "metadata": {
        "id": "wuVwad7uxDB2"
      },
      "outputs": [],
      "source": [
        "s = {1, 2, 3, 4}\n",
        "s.add(5)\n",
        "print(s)\n"
      ]
    },
    {
      "cell_type": "code",
      "execution_count": null,
      "metadata": {
        "id": "JeAAL9VHxS57"
      },
      "outputs": [],
      "source": [
        "s = set()\n",
        "s.add(\"hello\")\n",
        "print(s)\n"
      ]
    },
    {
      "cell_type": "markdown",
      "metadata": {
        "id": "2JSCBuW3yNJ3"
      },
      "source": [
        "Set methods are built-in Python functions that allow you to add, remove, combine, or compare elements within sets"
      ]
    },
    {
      "cell_type": "code",
      "execution_count": null,
      "metadata": {
        "colab": {
          "base_uri": "https://localhost:8080/"
        },
        "id": "qYgxwMuCyQEb",
        "outputId": "a87bef2c-c111-4594-f20a-5802cef21422"
      },
      "outputs": [
        {
          "name": "stdout",
          "output_type": "stream",
          "text": [
            "{1, 2, 3, 4}\n",
            "{1, 2, 3, 4, 5, 6}\n",
            "{1, 3, 4, 5, 6}\n",
            "{1, 4, 5, 6}\n",
            "{4, 5, 6}\n",
            "set()\n"
          ]
        }
      ],
      "source": [
        "s = {1, 2, 3}\n",
        "\n",
        "s.add(4)\n",
        "print(s)\n",
        "\n",
        "s.update([5, 6])\n",
        "print(s)\n",
        "\n",
        "s.remove(2)\n",
        "print(s)\n",
        "\n",
        "s.discard(3)\n",
        "print(s)\n",
        "\n",
        "s.pop()\n",
        "print(s)\n",
        "\n",
        "s.clear()\n",
        "print(s)\n"
      ]
    },
    {
      "cell_type": "markdown",
      "metadata": {
        "id": "Gn_o22TTy_Tf"
      },
      "source": [
        "A dictionary is an unordered, mutable collection of key-value pairs in Python, written using curly braces {} with a colon : between keys and values.\n",
        "\n"
      ]
    },
    {
      "cell_type": "code",
      "execution_count": null,
      "metadata": {
        "colab": {
          "base_uri": "https://localhost:8080/"
        },
        "id": "6TfxB6RY0cHO",
        "outputId": "588a6c8d-b659-432f-bde5-898f77acaec0"
      },
      "outputs": [
        {
          "name": "stdout",
          "output_type": "stream",
          "text": [
            "name Tarun\n",
            "age 21\n",
            "grade A\n"
          ]
        }
      ],
      "source": [
        "student = {\"name\": \"Tarun\", \"age\": 21, \"grade\": \"A\"}\n",
        "\n",
        "for key in student:\n",
        "    print(key, student[key])\n"
      ]
    },
    {
      "cell_type": "code",
      "execution_count": null,
      "metadata": {
        "colab": {
          "base_uri": "https://localhost:8080/"
        },
        "id": "nHegHr6i0i6Y",
        "outputId": "9b838f64-10ac-4d10-9636-e48ad2585b43"
      },
      "outputs": [
        {
          "name": "stdout",
          "output_type": "stream",
          "text": [
            "Tarun\n"
          ]
        }
      ],
      "source": [
        "student = {\"name\": \"Tarun\", \"age\": 20, \"grade\": \"A\"}\n",
        "print(student[\"name\"])\n"
      ]
    },
    {
      "cell_type": "code",
      "execution_count": null,
      "metadata": {
        "colab": {
          "base_uri": "https://localhost:8080/"
        },
        "id": "6SnwmVuG0qeh",
        "outputId": "6c7f7578-3d99-4b71-9ced-ed3a3dd4800f"
      },
      "outputs": [
        {
          "name": "stdout",
          "output_type": "stream",
          "text": [
            "player1\n",
            "name Tarun\n",
            "score 95\n",
            "player2\n",
            "name Ava\n",
            "score 88\n"
          ]
        }
      ],
      "source": [
        "team = {\n",
        "    \"player1\": {\"name\": \"Tarun\", \"score\": 95},\n",
        "    \"player2\": {\"name\": \"Ava\", \"score\": 88}\n",
        "}\n",
        "\n",
        "for player, details in team.items():\n",
        "    print(player)\n",
        "    for key, value in details.items():\n",
        "        print(key, value)\n"
      ]
    },
    {
      "cell_type": "markdown",
      "metadata": {
        "id": "2N8gWF_AG_Xl"
      },
      "source": [
        "conditional statements"
      ]
    },
    {
      "cell_type": "markdown",
      "metadata": {
        "id": "eN9849lxHRBF"
      },
      "source": [
        " if statement :Executes a block of code only if the condition is True"
      ]
    },
    {
      "cell_type": "code",
      "execution_count": null,
      "metadata": {
        "id": "DVYoVu82HhuB"
      },
      "outputs": [],
      "source": [
        "a=13\n",
        "b=14\n",
        "if a > b:\n",
        "  print(\"a is lessthan b\")"
      ]
    },
    {
      "cell_type": "markdown",
      "metadata": {
        "id": "y5mzu3kFHsY0"
      },
      "source": [
        "else :Executes one block if True, another block if False."
      ]
    },
    {
      "cell_type": "code",
      "execution_count": null,
      "metadata": {
        "colab": {
          "base_uri": "https://localhost:8080/"
        },
        "id": "5zxGPGb5Hqii",
        "outputId": "5e9b1ae6-c812-4b27-a3cb-5a014d66172d"
      },
      "outputs": [
        {
          "name": "stdout",
          "output_type": "stream",
          "text": [
            "give me valid input\n"
          ]
        }
      ],
      "source": [
        "age = 16\n",
        "if age >= 18:\n",
        "    print(\"You can vote\")\n",
        "else:\n",
        "    print(\"give me valid input\")\n"
      ]
    },
    {
      "cell_type": "markdown",
      "metadata": {
        "id": "NAriiO2aH7Ii"
      },
      "source": [
        "else if :Checks multiple conditions. The first True block runs.\n"
      ]
    },
    {
      "cell_type": "code",
      "execution_count": null,
      "metadata": {
        "colab": {
          "base_uri": "https://localhost:8080/"
        },
        "id": "3Y8-MFq7IF_M",
        "outputId": "16f40b08-66ec-43eb-9f96-5638229efe49"
      },
      "outputs": [
        {
          "name": "stdout",
          "output_type": "stream",
          "text": [
            "Grade B\n"
          ]
        }
      ],
      "source": [
        "marks = 75\n",
        "if marks >= 90:\n",
        "    print(\"Grade A\")\n",
        "elif marks >= 70:\n",
        "    print(\"Grade B\")\n",
        "else:\n",
        "    print(\"Grade C\")\n"
      ]
    },
    {
      "cell_type": "markdown",
      "metadata": {
        "id": "XPvYXYttJA8R"
      },
      "source": [
        "nested if :A nested if means using one if statement inside another. It lets you check multiple conditions in layers"
      ]
    },
    {
      "cell_type": "code",
      "execution_count": null,
      "metadata": {
        "id": "nGyS9QaAJIWr"
      },
      "outputs": [],
      "source": [
        "age = 20\n",
        "citizen = True\n",
        "\n",
        "if age >= 18:\n",
        "    if citizen:\n",
        "        print(\"You are eligible to vote\")\n",
        "    else:\n",
        "        print(\"You must be a citizen to vote\")\n",
        "else:\n",
        "    print(\"You are not old enough to vote\")\n"
      ]
    },
    {
      "cell_type": "code",
      "execution_count": null,
      "metadata": {
        "colab": {
          "base_uri": "https://localhost:8080/"
        },
        "id": "VS0YLnefJ51e",
        "outputId": "44986e12-d218-4c5d-8041-6949cdb8b51e"
      },
      "outputs": [
        {
          "name": "stdout",
          "output_type": "stream",
          "text": [
            "buhk\n"
          ]
        }
      ],
      "source": [
        "a=\"khub\"\n",
        "print(a[::-1])"
      ]
    },
    {
      "cell_type": "markdown",
      "metadata": {
        "id": "u9arnpeHOnJ_"
      },
      "source": [
        "match:The match statement is used for pattern matching, similar to switch-case in other languages"
      ]
    },
    {
      "cell_type": "code",
      "execution_count": null,
      "metadata": {
        "colab": {
          "base_uri": "https://localhost:8080/"
        },
        "id": "-_L6EsvvO0By",
        "outputId": "6fc226e2-0410-400e-e878-0a5163ca2ec8"
      },
      "outputs": [
        {
          "name": "stdout",
          "output_type": "stream",
          "text": [
            "B\n"
          ]
        }
      ],
      "source": [
        "compliment = \"good\"\n",
        "match compliment:\n",
        "  case \"exellent\":\n",
        "    print(\"A\")\n",
        "  case \"good\":\n",
        "    print(\"B\")\n",
        "  case \"average\":\n",
        "    print(\"c\")\n",
        "  case _:\n",
        "    print(\"F\")"
      ]
    },
    {
      "cell_type": "code",
      "execution_count": null,
      "metadata": {
        "colab": {
          "base_uri": "https://localhost:8080/"
        },
        "id": "xUNXkTg7S78p",
        "outputId": "52947309-3674-4a78-a798-0d7b41e09238"
      },
      "outputs": [
        {
          "name": "stdout",
          "output_type": "stream",
          "text": [
            "even\n"
          ]
        }
      ],
      "source": [
        "a = 4\n",
        "if a %2==0:\n",
        "  print(\"even\")\n",
        "else :\n",
        "  print(\"odd\")"
      ]
    },
    {
      "cell_type": "code",
      "execution_count": null,
      "metadata": {
        "colab": {
          "base_uri": "https://localhost:8080/"
        },
        "id": "GO1Z0VxnUW36",
        "outputId": "874078a3-d303-4dec-b37c-e54f2e46b6cd"
      },
      "outputs": [
        {
          "name": "stdout",
          "output_type": "stream",
          "text": [
            "enter the no :22\n",
            "allowed to vote\n"
          ]
        }
      ],
      "source": [
        "a = int(input('enter the no :'))\n",
        "if a>=18:\n",
        "  print(\"allowed to vote\")\n",
        "else   :\n",
        "  print(\" not allowed to vote\")"
      ]
    },
    {
      "cell_type": "code",
      "execution_count": null,
      "metadata": {
        "colab": {
          "base_uri": "https://localhost:8080/"
        },
        "id": "csJQ4VRKWxII",
        "outputId": "ffdaad21-1b08-4958-c251-fef30a08c312"
      },
      "outputs": [
        {
          "name": "stdout",
          "output_type": "stream",
          "text": [
            "enter no;0\n",
            "zero\n"
          ]
        }
      ],
      "source": [
        "a = int(input('enter no;'))\n",
        "if a==0:\n",
        "  print(\"zero\")\n",
        "elif a>0:\n",
        "  print(\"postive\")\n",
        "elif a<0:\n",
        "  print(\"negatve\")\n",
        "else :\n",
        "  print(\"vaild input\")"
      ]
    },
    {
      "cell_type": "code",
      "execution_count": null,
      "metadata": {
        "colab": {
          "base_uri": "https://localhost:8080/"
        },
        "id": "7NMi1tADYrXg",
        "outputId": "0548a3b0-a3af-4ca1-c149-43a2c8361335"
      },
      "outputs": [
        {
          "name": "stdout",
          "output_type": "stream",
          "text": [
            "enter the char:n\n",
            " consonant\n"
          ]
        }
      ],
      "source": [
        "a = str(input(\"enter the char:\"))\n",
        "vowels =\"a,e,i,o,u,A,E,I,O,U\"\n",
        "if a in vowels:\n",
        "  print(\"vowel\")\n",
        "else :\n",
        "  print(\" consonant\")\n",
        "\n"
      ]
    },
    {
      "cell_type": "code",
      "execution_count": null,
      "metadata": {
        "colab": {
          "base_uri": "https://localhost:8080/"
        },
        "id": "dCxFcooiauZB",
        "outputId": "f592bd16-5133-4949-8d53-05400bf3ff85"
      },
      "outputs": [
        {
          "name": "stdout",
          "output_type": "stream",
          "text": [
            "enter no;5\n",
            "enter no;5\n",
            "enter no;6\n",
            " multiple greatest value\n"
          ]
        }
      ],
      "source": [
        "a = int(input('enter no;'))\n",
        "b = int(input('enter no;'))\n",
        "c = int(input('enter no;'))\n",
        "if  a > b > c:\n",
        "  print(a)\n",
        "elif b> a >  c:\n",
        "  print(b)\n",
        "elif c> b > a:\n",
        "  print(c)\n",
        "else :\n",
        "  print(\" multiple greatest value\")\n"
      ]
    },
    {
      "cell_type": "code",
      "execution_count": null,
      "metadata": {
        "colab": {
          "base_uri": "https://localhost:8080/"
        },
        "id": "S0vFcgdaeezG",
        "outputId": "e962d9ce-9dee-4986-aeb3-77e920c6eebf"
      },
      "outputs": [
        {
          "name": "stdout",
          "output_type": "stream",
          "text": [
            "enter no:89\n",
            "B\n"
          ]
        }
      ],
      "source": [
        "points = int(input(\"enter no:\"))\n",
        "if points>=90:\n",
        "  print(\"A\")\n",
        "elif points>=80<89:\n",
        "  print(\"B\")\n",
        "elif points>=70<79:\n",
        "  print(\"C\")\n",
        "elif points>=60<69:\n",
        "  print(\"D\")\n",
        "elif points <60:\n",
        "  print(\"F\")\n",
        "\n",
        "\n"
      ]
    },
    {
      "cell_type": "markdown",
      "metadata": {
        "id": "Y_W8q_fuiANQ"
      },
      "source": [
        "# **todays topics loops and function**\n",
        "1.date:4/08/2025\n"
      ]
    },
    {
      "cell_type": "markdown",
      "metadata": {
        "id": "HRoI3eh0kbkW"
      },
      "source": [
        "loops are used to repeatedly execute a block of code. The main types are:\n",
        "\n"
      ]
    },
    {
      "cell_type": "markdown",
      "metadata": {
        "id": "KHcrXYqQkfG8"
      },
      "source": [
        "1.*for loop*\n",
        "2.*while loop*\n",
        "3.*nested loop*\n"
      ]
    },
    {
      "cell_type": "markdown",
      "metadata": {
        "id": "0fwrCPpWllJR"
      },
      "source": [
        "for loop:\n",
        "To iterate over a sequence (list, tuple, string, dictionary, set, or range).\n",
        "\n"
      ]
    },
    {
      "cell_type": "code",
      "execution_count": null,
      "metadata": {
        "colab": {
          "base_uri": "https://localhost:8080/"
        },
        "id": "HzCykEOnnNKN",
        "outputId": "7d9df235-499f-4556-8068-5c93cf5ac2b1"
      },
      "outputs": [
        {
          "name": "stdout",
          "output_type": "stream",
          "text": [
            "one\n",
            "two\n",
            "three\n",
            "four\n"
          ]
        }
      ],
      "source": [
        "#tuble\n",
        "a = (\"one\",\"two\", 'three', 'four')\n",
        "for number in a:\n",
        "  print(number)"
      ]
    },
    {
      "cell_type": "code",
      "execution_count": null,
      "metadata": {
        "colab": {
          "base_uri": "https://localhost:8080/"
        },
        "id": "bnA7UjbFpP4R",
        "outputId": "07c0f239-43d0-4e43-d626-21a39c919c15"
      },
      "outputs": [
        {
          "name": "stdout",
          "output_type": "stream",
          "text": [
            "name\n",
            "age\n",
            "village\n"
          ]
        }
      ],
      "source": [
        "#dictionary\n",
        "dic = {\"name\":\"tarun\",\"age\":19, \"village\":\"kandulpalem\"}\n",
        "for key in dic:\n",
        "  print(key)"
      ]
    },
    {
      "cell_type": "code",
      "execution_count": null,
      "metadata": {
        "colab": {
          "base_uri": "https://localhost:8080/"
        },
        "id": "C3dn14gfrJJn",
        "outputId": "73235770-af49-482b-c453-7ce0713a8c1f"
      },
      "outputs": [
        {
          "name": "stdout",
          "output_type": "stream",
          "text": [
            "tarun\n",
            "19\n",
            "kandulpalem\n"
          ]
        }
      ],
      "source": [
        "dic = {\"name\":\"tarun\",\"age\":19, \"village\":\"kandulpalem\"}\n",
        "for value in dic.values():\n",
        "  print(value)"
      ]
    },
    {
      "cell_type": "code",
      "execution_count": null,
      "metadata": {
        "colab": {
          "base_uri": "https://localhost:8080/"
        },
        "id": "I3Z6ncBgrJTa",
        "outputId": "9e3c01f2-1c3f-423a-c79b-2720457f9e0f"
      },
      "outputs": [
        {
          "name": "stdout",
          "output_type": "stream",
          "text": [
            "name ram\n",
            "age 22\n",
            "city kakinada\n"
          ]
        }
      ],
      "source": [
        "dic = {\"name\":\"ram\",\"age\":22,\"city\":\"kakinada\"}\n",
        "for key,value in dic.items():\n",
        "  print(key,value)\n",
        "\n"
      ]
    },
    {
      "cell_type": "code",
      "execution_count": null,
      "metadata": {
        "colab": {
          "base_uri": "https://localhost:8080/"
        },
        "id": "EkTXVrIrtLOX",
        "outputId": "0d2b14fb-ade0-4e96-98c1-857f921da571"
      },
      "outputs": [
        {
          "name": "stdout",
          "output_type": "stream",
          "text": [
            "1\n",
            "1\n",
            "2\n",
            "3\n",
            "2\n",
            "1\n",
            "2\n",
            "3\n",
            "3\n",
            "1\n",
            "2\n",
            "3\n"
          ]
        }
      ],
      "source": [
        "a = (1,2,3,)\n",
        "for number in a:\n",
        "  print(number)\n",
        "\n",
        "  for i in range(len(a)):\n",
        "      print(a[i])"
      ]
    },
    {
      "cell_type": "code",
      "execution_count": null,
      "metadata": {
        "colab": {
          "base_uri": "https://localhost:8080/"
        },
        "id": "BHnz3Rl6tfWE",
        "outputId": "dabdef4e-0848-4b2c-fcba-12cf0030da14"
      },
      "outputs": [
        {
          "name": "stdout",
          "output_type": "stream",
          "text": [
            "0\n",
            "2\n",
            "4\n",
            "6\n",
            "8\n"
          ]
        }
      ],
      "source": [
        "for i in range(0,10,2):\n",
        "    print(i)\n",
        "for i in range(3):\n",
        "  print(i)\n",
        "\n",
        "\n"
      ]
    },
    {
      "cell_type": "markdown",
      "metadata": {
        "id": "Krwasdo4ww-B"
      },
      "source": [
        " while loop in Python will keep executing the block of code inside it as long as the condition remains True."
      ]
    },
    {
      "cell_type": "code",
      "source": [
        "nows = 1\n",
        "while nows <10:\n",
        "  print(nows)\n",
        "  nows += 1"
      ],
      "metadata": {
        "colab": {
          "base_uri": "https://localhost:8080/"
        },
        "id": "bsfMgBU4y8hT",
        "outputId": "9f2fb83e-d4ca-434b-88e7-78c357a27d74"
      },
      "execution_count": null,
      "outputs": [
        {
          "output_type": "stream",
          "name": "stdout",
          "text": [
            "1\n",
            "2\n",
            "3\n",
            "4\n",
            "5\n",
            "6\n",
            "7\n",
            "8\n",
            "9\n"
          ]
        }
      ]
    },
    {
      "cell_type": "markdown",
      "source": [
        "A nested loop is a loop that exists inside the body of another loop. In other words, a loop inside another loop is called a nested loop.\n",
        "\n"
      ],
      "metadata": {
        "id": "5ZnQOwLC0i2K"
      }
    },
    {
      "cell_type": "code",
      "source": [
        "for i in range (0,3):\n",
        "    for j in range(i,j+1):\n",
        "       print(i,j)"
      ],
      "metadata": {
        "colab": {
          "base_uri": "https://localhost:8080/"
        },
        "id": "XDrnwq597npn",
        "outputId": "369328b3-8cf2-4f3a-eaae-905714e0e4d4"
      },
      "execution_count": null,
      "outputs": [
        {
          "output_type": "stream",
          "name": "stdout",
          "text": [
            "0 0\n",
            "0 1\n",
            "1 1\n"
          ]
        }
      ]
    },
    {
      "cell_type": "markdown",
      "source": [
        "Loop control statements like break and continue help manage the flow inside loops, including inner loops"
      ],
      "metadata": {
        "id": "Uw3tFe6n9GUL"
      }
    },
    {
      "cell_type": "markdown",
      "source": [
        "break is exit the loop and skip other iteration"
      ],
      "metadata": {
        "id": "ZFr5XJBiNDwa"
      }
    },
    {
      "cell_type": "code",
      "source": [
        "\n",
        "for i in range(5):\n",
        "   if i==3:\n",
        "    break\n",
        "   print(i)"
      ],
      "metadata": {
        "colab": {
          "base_uri": "https://localhost:8080/"
        },
        "id": "_PbMPlzsLob5",
        "outputId": "07f41b02-351d-4083-8db4-9f3fb526b540"
      },
      "execution_count": null,
      "outputs": [
        {
          "output_type": "stream",
          "name": "stdout",
          "text": [
            "0\n",
            "1\n",
            "2\n"
          ]
        }
      ]
    },
    {
      "cell_type": "markdown",
      "source": [
        "The continue statement in Python is a loop control statement used to skip the rest of the code inside the current iteration of a loop and immediately jump to the next iteration of the loop"
      ],
      "metadata": {
        "id": "suKXcNvMNTCB"
      }
    },
    {
      "cell_type": "code",
      "source": [
        "for i in range (8):\n",
        "  if i ==6:\n",
        "      continue\n",
        "  print(i)"
      ],
      "metadata": {
        "colab": {
          "base_uri": "https://localhost:8080/"
        },
        "id": "D68yVjPvNsoA",
        "outputId": "f7bb0f1f-0f44-4775-9c60-214793d51f05"
      },
      "execution_count": null,
      "outputs": [
        {
          "output_type": "stream",
          "name": "stdout",
          "text": [
            "0\n",
            "1\n",
            "2\n",
            "3\n",
            "4\n",
            "5\n",
            "7\n"
          ]
        }
      ]
    },
    {
      "cell_type": "code",
      "source": [
        "for i in range (8):\n",
        "  if i ==6:\n",
        "      pass\n",
        "  print(i)"
      ],
      "metadata": {
        "colab": {
          "base_uri": "https://localhost:8080/"
        },
        "id": "uAXEE_xQOySA",
        "outputId": "ebabf23b-8592-43ac-deb9-d2fe025941eb"
      },
      "execution_count": null,
      "outputs": [
        {
          "output_type": "stream",
          "name": "stdout",
          "text": [
            "0\n",
            "1\n",
            "2\n",
            "3\n",
            "4\n",
            "5\n",
            "6\n",
            "7\n"
          ]
        }
      ]
    },
    {
      "cell_type": "code",
      "source": [
        "name = \"Tarun\"\n",
        "\n",
        "for letter in name:\n",
        "    if letter.lower() in \"aeiou\":\n",
        "        print(f\"{letter} is a vowel in Tarun\")\n",
        "    else:\n",
        "        print(f\"{letter} is a consonant in Tarun\")\n"
      ],
      "metadata": {
        "colab": {
          "base_uri": "https://localhost:8080/"
        },
        "id": "-Fj1ieLTegEi",
        "outputId": "5bdcc4be-5c5b-4b0d-d750-97bbb963a9d5"
      },
      "execution_count": null,
      "outputs": [
        {
          "output_type": "stream",
          "name": "stdout",
          "text": [
            "T is a consonant in Tarun\n",
            "a is a vowel in Tarun\n",
            "r is a consonant in Tarun\n",
            "u is a vowel in Tarun\n",
            "n is a consonant in Tarun\n"
          ]
        }
      ]
    },
    {
      "cell_type": "code",
      "source": [
        "for num in range(1, 11):\n",
        "    if num % 2 == 0:\n",
        "        print(f\"{num} is even\")\n"
      ],
      "metadata": {
        "colab": {
          "base_uri": "https://localhost:8080/"
        },
        "id": "nTvoYPm_TB9H",
        "outputId": "c1b9a4ca-b093-476b-e66b-a3e19e3dde89"
      },
      "execution_count": null,
      "outputs": [
        {
          "output_type": "stream",
          "name": "stdout",
          "text": [
            "2 is even\n",
            "4 is even\n",
            "6 is even\n",
            "8 is even\n",
            "10 is even\n"
          ]
        }
      ]
    },
    {
      "cell_type": "markdown",
      "source": [
        "defining a function means creating a reusable block of code that performs a specific task. You define a function using the def keyword, followed by a function name and parentheses ()"
      ],
      "metadata": {
        "id": "kKXdTcQpRnXE"
      }
    },
    {
      "cell_type": "code",
      "source": [
        "def tarun(hello):\n",
        "    print(\"good evening\", hello)\n",
        "tarun(\"i am tarun\")\n",
        "tarun(\"i am your\")\n"
      ],
      "metadata": {
        "colab": {
          "base_uri": "https://localhost:8080/"
        },
        "id": "DXawnNyGRqq9",
        "outputId": "b668b036-59d6-4026-fc2e-5a1d083261b5"
      },
      "execution_count": null,
      "outputs": [
        {
          "output_type": "stream",
          "name": "stdout",
          "text": [
            "good evening i am tarun\n",
            "good evening i am your\n"
          ]
        }
      ]
    },
    {
      "cell_type": "code",
      "source": [
        "x = [1,2,3,4,5,6,7]\n",
        "for i in range(len(x)):\n",
        "   print(x[i])"
      ],
      "metadata": {
        "colab": {
          "base_uri": "https://localhost:8080/"
        },
        "id": "Bv1zBgtwUoPW",
        "outputId": "3467088a-4dfe-40c1-a6ec-bfaea3f3f710"
      },
      "execution_count": null,
      "outputs": [
        {
          "output_type": "stream",
          "name": "stdout",
          "text": [
            "1\n",
            "2\n",
            "3\n",
            "4\n",
            "5\n",
            "6\n",
            "7\n"
          ]
        }
      ]
    },
    {
      "cell_type": "code",
      "source": [
        "n = 5\n",
        "\n",
        "for i in range(1, + n ):\n",
        "  print('*' * i)\n"
      ],
      "metadata": {
        "colab": {
          "base_uri": "https://localhost:8080/"
        },
        "id": "ABg7R2atYj1U",
        "outputId": "f3e50d4f-f4f0-4d91-db80-37b37839ad6b"
      },
      "execution_count": null,
      "outputs": [
        {
          "output_type": "stream",
          "name": "stdout",
          "text": [
            "*\n",
            "**\n",
            "***\n",
            "****\n"
          ]
        }
      ]
    },
    {
      "cell_type": "code",
      "source": [
        "def sum(tarun,ram):\n",
        "    return tarun+ram\n",
        "rahul = sum(5,10)\n",
        "print(rahul)\n",
        "\n"
      ],
      "metadata": {
        "colab": {
          "base_uri": "https://localhost:8080/"
        },
        "id": "MdkBBtPvaTJm",
        "outputId": "3fca22e8-cb00-43a5-9779-5fff075000e0"
      },
      "execution_count": null,
      "outputs": [
        {
          "output_type": "stream",
          "name": "stdout",
          "text": [
            "15\n"
          ]
        }
      ]
    },
    {
      "cell_type": "markdown",
      "source": [
        "A function that takes input values (called arguments) to perform a task.\n",
        "\n",
        "\n",
        "\n",
        "\n"
      ],
      "metadata": {
        "id": "1_isz0k0kHxq"
      }
    },
    {
      "cell_type": "code",
      "source": [
        "def add_numbers(a, b):\n",
        "    result = a + b\n",
        "    print(f\"The sum of {a} and {b} is {result}\")\n",
        "\n",
        "add_numbers(5, 3)\n"
      ],
      "metadata": {
        "colab": {
          "base_uri": "https://localhost:8080/"
        },
        "id": "ErsEFCghkvqh",
        "outputId": "04fed402-26bd-47e2-c938-53b87000719f"
      },
      "execution_count": null,
      "outputs": [
        {
          "output_type": "stream",
          "name": "stdout",
          "text": [
            "The sum of 5 and 3 is 8\n"
          ]
        }
      ]
    },
    {
      "cell_type": "code",
      "source": [
        "def runing(name):\n",
        "    print(f\"bike, {name}!\")\n",
        "\n",
        "runing(\"ktm\")\n"
      ],
      "metadata": {
        "colab": {
          "base_uri": "https://localhost:8080/"
        },
        "id": "E-jmFZmdlC0e",
        "outputId": "f9739ac2-d621-4162-dbbf-c51a72ab930b"
      },
      "execution_count": null,
      "outputs": [
        {
          "output_type": "stream",
          "name": "stdout",
          "text": [
            "bike, ktm!\n"
          ]
        }
      ]
    },
    {
      "cell_type": "markdown",
      "source": [
        "scope of a variable refers to the region of a program where that variable is accessible"
      ],
      "metadata": {
        "id": "4xPZ6EzInANb"
      }
    },
    {
      "cell_type": "markdown",
      "source": [
        "Local Scope\n",
        "\n",
        "Variables defined inside a function have local scope.\n",
        "\n",
        "They can only be accessed inside that function.\n",
        "\n",
        "Once the function finishes execution"
      ],
      "metadata": {
        "id": "OI_vaZU7nG2b"
      }
    },
    {
      "cell_type": "code",
      "source": [
        "def my_function():\n",
        "    x = 10\n",
        "    print(x)\n",
        "\n",
        "my_function()\n",
        "print(x)\n"
      ],
      "metadata": {
        "colab": {
          "base_uri": "https://localhost:8080/"
        },
        "id": "CAJPPJEhnBer",
        "outputId": "064cedd4-80fb-45c4-b62e-eeccedc71cff"
      },
      "execution_count": null,
      "outputs": [
        {
          "output_type": "stream",
          "name": "stdout",
          "text": [
            "10\n",
            "10\n"
          ]
        }
      ]
    },
    {
      "cell_type": "markdown",
      "source": [
        "Global Scope\n",
        "\n",
        "Variables defined outside any function have global scope.\n",
        "\n",
        "They can be accessed anywhere in the program, including inside functions (unless shadowed by a local variable).\n",
        "\n"
      ],
      "metadata": {
        "id": "zjISQlJknpdm"
      }
    },
    {
      "cell_type": "code",
      "source": [
        "x = 20\n",
        "\n",
        "def my_function():\n",
        "    print(x)\n",
        "\n",
        "my_function()\n",
        "print(x)\n"
      ],
      "metadata": {
        "colab": {
          "base_uri": "https://localhost:8080/"
        },
        "id": "kuCrQKdgnrky",
        "outputId": "32bdd859-c404-4533-f8b0-e5620cc6cc37"
      },
      "execution_count": null,
      "outputs": [
        {
          "output_type": "stream",
          "name": "stdout",
          "text": [
            "20\n",
            "20\n"
          ]
        }
      ]
    },
    {
      "cell_type": "code",
      "source": [
        "#scope using global keyword\n",
        "x = 10\n",
        "\n",
        "def change_x():\n",
        "    global x\n",
        "    x = x + 5\n",
        "    print(x)\n",
        "\n",
        "change_x()\n",
        "print(x)\n"
      ],
      "metadata": {
        "id": "B2l__FTMnr1L",
        "colab": {
          "base_uri": "https://localhost:8080/"
        },
        "outputId": "3f9de58a-9e30-4581-ccc2-01a9f8c84dfe"
      },
      "execution_count": null,
      "outputs": [
        {
          "output_type": "stream",
          "name": "stdout",
          "text": [
            "15\n",
            "15\n"
          ]
        }
      ]
    },
    {
      "cell_type": "markdown",
      "source": [
        "**lambda function :**\n",
        "A lambda function is a small, anonymous (without a name) function.\n",
        "\n",
        "The keyword lambda is used to define a lambda function.\n",
        "\n",
        "A lambda function can only have a single expression — meaning its body contains only one calculation, operation, or return value"
      ],
      "metadata": {
        "id": "NDVPBEfzxkD6"
      }
    },
    {
      "cell_type": "code",
      "source": [
        "check_1 = lambda a: a + 12\n",
        "print(check_1(12))"
      ],
      "metadata": {
        "colab": {
          "base_uri": "https://localhost:8080/"
        },
        "id": "UBZ4dCQvxjtW",
        "outputId": "47f28484-fa10-4221-f8f3-9079dd3d6c5c"
      },
      "execution_count": null,
      "outputs": [
        {
          "output_type": "stream",
          "name": "stdout",
          "text": [
            "24\n"
          ]
        }
      ]
    },
    {
      "cell_type": "code",
      "source": [
        "check_1 = lambda a , b : a * b\n",
        "print(check_1(5,5))"
      ],
      "metadata": {
        "colab": {
          "base_uri": "https://localhost:8080/"
        },
        "id": "mQWV2UZnykvF",
        "outputId": "d38175a7-be3a-4940-9707-3755e2c48dc4"
      },
      "execution_count": null,
      "outputs": [
        {
          "output_type": "stream",
          "name": "stdout",
          "text": [
            "25\n"
          ]
        }
      ]
    },
    {
      "cell_type": "code",
      "source": [
        "#map in lambda function\n",
        "num = [1,2,3,4,]\n",
        "root = list(map(lambda x:x*2, num))\n",
        "print(root)"
      ],
      "metadata": {
        "colab": {
          "base_uri": "https://localhost:8080/"
        },
        "id": "zfDbUxNkzKk9",
        "outputId": "c7cf8d7f-349b-4227-a8c6-efc54e603308"
      },
      "execution_count": null,
      "outputs": [
        {
          "output_type": "stream",
          "name": "stdout",
          "text": [
            "[2, 4, 6, 8]\n"
          ]
        }
      ]
    },
    {
      "cell_type": "code",
      "source": [
        "#lambda using filter\n",
        "num = [1,2,3,4,5, 6, 7]\n",
        "root = list(filter(lambda x:x%2 == 0 ,num))\n",
        "print(root)"
      ],
      "metadata": {
        "colab": {
          "base_uri": "https://localhost:8080/"
        },
        "id": "4V0_3ggs01K0",
        "outputId": "aba523d9-ee79-478d-c350-c7ba496afa29"
      },
      "execution_count": null,
      "outputs": [
        {
          "output_type": "stream",
          "name": "stdout",
          "text": [
            "[2, 4, 6]\n"
          ]
        }
      ]
    },
    {
      "cell_type": "markdown",
      "source": [
        "# **COFFEE MACHINE TASK** day 3"
      ],
      "metadata": {
        "id": "4O-qhTXP-NB3"
      }
    },
    {
      "cell_type": "code",
      "source": [
        "MENU = {\n",
        "    \"cold coffee\": {\n",
        "        \"ingredients\": {\n",
        "            \"milk\": 50,\n",
        "            \"water\": 50,\n",
        "            \"coffee\": 76\n",
        "        },\n",
        "        \"cost\": 30\n",
        "    },\n",
        "    \"normal coffee\": {\n",
        "        \"ingredients\": {\n",
        "            \"milk\": 50,\n",
        "            \"water\": 50,\n",
        "            \"coffee\": 76\n",
        "        },\n",
        "        \"cost\": 50\n",
        "\n",
        "    },\n",
        "    \"cappuccino\": {\n",
        "        \"ingredients\": {\n",
        "            \"milk\": 50,\n",
        "            \"water\": 50,\n",
        "            \"coffee\": 76\n",
        "        },\n",
        "        \"cost\": 30\n",
        "    }\n",
        "}\n",
        "\n",
        "resources = {\n",
        "    \"water\": 100,\n",
        "    \"milk\": 50,\n",
        "    \"coffee\": 76,\n",
        "    \"money\": 2\n",
        "}\n",
        "\n",
        "def print_report():\n",
        "    print(f\"Water: {resources['water']}ml\")\n",
        "    print(f\"Milk: {resources['milk']}ml\")\n",
        "    print(f\"Coffee: {resources['coffee']}g\")\n",
        "    print(f\"Money: ₹{resources['money']:.2f}\")\n",
        "\n",
        "def is_resource_sufficient(order_ingredients):\n",
        "    for item in order_ingredients:\n",
        "        if order_ingredients[item] > resources.get(item, 0):\n",
        "            print(f\"Sorry there is not enough {item}.\")\n",
        "            return False\n",
        "    return True\n",
        "\n",
        "def process_coins_inr():\n",
        "    print(\"Please insert coins.\")\n",
        "    ten_rs_str = input(\"How many 10 rupee coins?: \")\n",
        "    five_rs_str = input(\"How many 5 rupee coins?: \")\n",
        "    two_rs_str = input(\"How many 2 rupee coins?: \")\n",
        "    one_rs_str = input(\"How many 1 rupee coins?: \")\n",
        "    fifty_paise_str = input(\"How many 50 paise coins?: \")\n",
        "    twentyfive_paise_str = input(\"How many 25 paise coins?: \")\n",
        "\n",
        "    ten_rs = int(ten_rs_str) if ten_rs_str else 0\n",
        "    five_rs = int(five_rs_str) if five_rs_str else 0\n",
        "    two_rs = int(two_rs_str) if two_rs_str else 0\n",
        "    one_rs = int(one_rs_str) if one_rs_str else 0\n",
        "    fifty_paise = int(fifty_paise_str) if fifty_paise_str else 0\n",
        "    twentyfive_paise = int(twentyfive_paise_str) if twentyfive_paise_str else 0\n",
        "\n",
        "\n",
        "    total = (ten_rs * 10) + (five_rs * 5) + (two_rs * 2) + (one_rs * 1) + (fifty_paise * 0.5) + (twentyfive_paise * 0.25)\n",
        "    return total\n",
        "\n",
        "def is_transaction_successful(money_received, drink_cost):\n",
        "    if money_received < drink_cost:\n",
        "        print(\"Sorry that's not enough money. Money refunded.\")\n",
        "        return False\n",
        "    else:\n",
        "        if money_received > drink_cost:\n",
        "            change = round(money_received - drink_cost, 2)\n",
        "            print(f\"Here is ₹{change} in change.\")\n",
        "        resources[\"money\"] += drink_cost\n",
        "        return True\n",
        "\n",
        "def make_coffee(drink_name, order_ingredients):\n",
        "    for item in order_ingredients:\n",
        "        resources[item] -= order_ingredients[item]\n",
        "    print(f\"Here is your {drink_name}. Enjoy!\")\n",
        "\n",
        "while True:\n",
        "    user_chosen = input(\"What would you like? (cold coffee/normal coffee/cappuccino): \").lower()\n",
        "    valid_coffees = [\"cold coffee\", \"normal coffee\", \"cappuccino\"]\n",
        "\n",
        "    if user_chosen == \"off\":\n",
        "        print(\"Turning off the coffee machine. Goodbye!\")\n",
        "        break\n",
        "\n",
        "    elif user_chosen == \"report\":\n",
        "        print_report()\n",
        "\n",
        "    elif user_chosen in valid_coffees:\n",
        "        drink = MENU[user_chosen]\n",
        "        if is_resource_sufficient(drink[\"ingredients\"]):\n",
        "            payment = process_coins_inr()\n",
        "            if is_transaction_successful(payment, drink[\"cost\"]):\n",
        "                make_coffee(user_chosen, drink[\"ingredients\"])\n",
        "\n",
        "    else:\n",
        "        print(\"Please enter a valid coffee option.\")\n"
      ],
      "metadata": {
        "id": "1goZTooc-38B"
      },
      "execution_count": null,
      "outputs": []
    }
  ],
  "metadata": {
    "colab": {
      "provenance": [],
      "include_colab_link": true
    },
    "kernelspec": {
      "display_name": "Python 3",
      "name": "python3"
    },
    "language_info": {
      "name": "python"
    }
  },
  "nbformat": 4,
  "nbformat_minor": 0
}