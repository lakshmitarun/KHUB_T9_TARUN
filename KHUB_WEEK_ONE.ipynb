{
  "nbformat": 4,
  "nbformat_minor": 0,
  "metadata": {
    "colab": {
      "provenance": [],
      "include_colab_link": true
    },
    "kernelspec": {
      "name": "python3",
      "display_name": "Python 3"
    },
    "language_info": {
      "name": "python"
    }
  },
  "cells": [
    {
      "cell_type": "markdown",
      "metadata": {
        "id": "view-in-github",
        "colab_type": "text"
      },
      "source": [
        "<a href=\"https://colab.research.google.com/github/lakshmitarun/KHUB_T9_TARUN/blob/main/KHUB_WEEK_ONE.ipynb\" target=\"_parent\"><img src=\"https://colab.research.google.com/assets/colab-badge.svg\" alt=\"Open In Colab\"/></a>"
      ]
    },
    {
      "cell_type": "markdown",
      "source": [
        "string"
      ],
      "metadata": {
        "id": "G8MvzfKgKEDH"
      }
    },
    {
      "cell_type": "markdown",
      "source": [
        "string is the sequence of the characters that written in the quotes like single or double quotes, its include the letter and the numbers its immutable it cannot change single characters\n",
        "its used tgo display the text"
      ],
      "metadata": {
        "id": "JMTQuWgjKPNq"
      }
    },
    {
      "cell_type": "code",
      "source": [
        "print('i am tarun jr developer in khub from team 9')"
      ],
      "metadata": {
        "colab": {
          "base_uri": "https://localhost:8080/"
        },
        "id": "mkPP0FWHL-_c",
        "outputId": "18afb9f9-e64e-4825-8137-dc213d610c53"
      },
      "execution_count": null,
      "outputs": [
        {
          "output_type": "stream",
          "name": "stdout",
          "text": [
            "i am tarun jr developer in khub from team 9\n"
          ]
        }
      ]
    },
    {
      "cell_type": "code",
      "source": [
        "print(\"skills html and css \")"
      ],
      "metadata": {
        "colab": {
          "base_uri": "https://localhost:8080/"
        },
        "id": "LcvPJ4OaLtt3",
        "outputId": "8c3b4128-883b-4745-fbd9-91e259482ee2"
      },
      "execution_count": null,
      "outputs": [
        {
          "output_type": "stream",
          "name": "stdout",
          "text": [
            "skills html and css \n"
          ]
        }
      ]
    },
    {
      "cell_type": "markdown",
      "source": [
        "assign the variable the string"
      ],
      "metadata": {
        "id": "BSL-YbqXNJ-m"
      }
    },
    {
      "cell_type": "code",
      "source": [
        "a= \"tarun \"\n",
        "print(a)"
      ],
      "metadata": {
        "colab": {
          "base_uri": "https://localhost:8080/"
        },
        "id": "Fx0prmUQNVeD",
        "outputId": "a3d8ad8b-970a-4897-aaf2-b030022572ba"
      },
      "execution_count": null,
      "outputs": [
        {
          "output_type": "stream",
          "name": "stdout",
          "text": [
            "tarun \n"
          ]
        }
      ]
    },
    {
      "cell_type": "markdown",
      "source": [
        "string in the arrays"
      ],
      "metadata": {
        "id": "3eLN3EyxNmwU"
      }
    },
    {
      "cell_type": "code",
      "source": [
        "a=\"hello i am tarun \"\n",
        "print(a[11])"
      ],
      "metadata": {
        "colab": {
          "base_uri": "https://localhost:8080/"
        },
        "id": "DhUrXy4qNy2P",
        "outputId": "fec4eebd-0014-4913-be53-5ecff03cef2f"
      },
      "execution_count": null,
      "outputs": [
        {
          "output_type": "stream",
          "name": "stdout",
          "text": [
            "t\n"
          ]
        }
      ]
    },
    {
      "cell_type": "markdown",
      "source": [
        "strings in loops"
      ],
      "metadata": {
        "id": "GPmTdMv8OaPW"
      }
    },
    {
      "cell_type": "code",
      "source": [
        "for x in \"tarun\":\n",
        "   print(x)"
      ],
      "metadata": {
        "colab": {
          "base_uri": "https://localhost:8080/"
        },
        "id": "5zw8XZHeOeDp",
        "outputId": "99d6d41a-282d-47fe-ccaf-74d4b917eacd"
      },
      "execution_count": null,
      "outputs": [
        {
          "output_type": "stream",
          "name": "stdout",
          "text": [
            "t\n",
            "a\n",
            "r\n",
            "u\n",
            "n\n"
          ]
        }
      ]
    },
    {
      "cell_type": "code",
      "source": [
        "a = \"tarun today topic is the python basics\"\n",
        "print(len(a))"
      ],
      "metadata": {
        "colab": {
          "base_uri": "https://localhost:8080/"
        },
        "id": "JJQzF77WPPkt",
        "outputId": "47e2f9e0-7bf8-4a5b-94ff-a5fb6edda9d8"
      },
      "execution_count": null,
      "outputs": [
        {
          "output_type": "stream",
          "name": "stdout",
          "text": [
            "38\n"
          ]
        }
      ]
    },
    {
      "cell_type": "markdown",
      "source": [
        "slicing sting in the python that exract particular part from the string using syntax like string[start:stop:step]"
      ],
      "metadata": {
        "id": "Q6Sa4eYdRffB"
      }
    },
    {
      "cell_type": "code",
      "source": [
        "a= 'i am tarun jr developer in khub from team 9'\n",
        "print(a[0:5])\n"
      ],
      "metadata": {
        "colab": {
          "base_uri": "https://localhost:8080/"
        },
        "id": "YZSvKALGSQ8-",
        "outputId": "39f7bca9-6dae-47c9-ee59-10f77e139314"
      },
      "execution_count": null,
      "outputs": [
        {
          "output_type": "stream",
          "name": "stdout",
          "text": [
            "i am \n"
          ]
        }
      ]
    },
    {
      "cell_type": "code",
      "source": [
        "a= 'i am tarun jr developer in khub from team 9'\n",
        "print(a[7:20:1])\n"
      ],
      "metadata": {
        "colab": {
          "base_uri": "https://localhost:8080/"
        },
        "id": "Gerb7Y0eS6zp",
        "outputId": "8a4bd222-41ff-47e9-8da1-2b23b5f5281d"
      },
      "execution_count": null,
      "outputs": [
        {
          "output_type": "stream",
          "name": "stdout",
          "text": [
            "run jr develo\n"
          ]
        }
      ]
    },
    {
      "cell_type": "code",
      "source": [
        "a= 'i am tarun jr developer in khub from team 9'\n",
        "print(a[-6:-1:])\n"
      ],
      "metadata": {
        "colab": {
          "base_uri": "https://localhost:8080/"
        },
        "id": "i879IEKPTVNP",
        "outputId": "d36686e8-5f84-4ddf-8091-ecb6ec3867f9"
      },
      "execution_count": null,
      "outputs": [
        {
          "output_type": "stream",
          "name": "stdout",
          "text": [
            "team \n"
          ]
        }
      ]
    },
    {
      "cell_type": "markdown",
      "source": [
        "modifying string"
      ],
      "metadata": {
        "id": "R2gSfu4MW4OZ"
      }
    },
    {
      "cell_type": "code",
      "source": [
        "int= \"HELLO TARUN \"\n",
        "print(int.lower())"
      ],
      "metadata": {
        "colab": {
          "base_uri": "https://localhost:8080/"
        },
        "id": "yShFFx-tW8QI",
        "outputId": "ac71b8dc-f7a7-4e76-ba5a-d09ba008bc0c"
      },
      "execution_count": null,
      "outputs": [
        {
          "output_type": "stream",
          "name": "stdout",
          "text": [
            "hello tarun \n"
          ]
        }
      ]
    },
    {
      "cell_type": "code",
      "source": [
        "int= \"hello tarun \"\n",
        "print(int.upper())"
      ],
      "metadata": {
        "colab": {
          "base_uri": "https://localhost:8080/"
        },
        "id": "a1TV9_s8XakR",
        "outputId": "8e2c90b0-d1d1-4531-f9c4-3efdf042409c"
      },
      "execution_count": null,
      "outputs": [
        {
          "output_type": "stream",
          "name": "stdout",
          "text": [
            "HELLO TARUN \n"
          ]
        }
      ]
    },
    {
      "cell_type": "code",
      "source": [
        "int= \"     HELLO TARUN   \"\n",
        "print(int.split())"
      ],
      "metadata": {
        "colab": {
          "base_uri": "https://localhost:8080/"
        },
        "id": "5Onl9BfkXik-",
        "outputId": "787d9735-2dff-4e36-fd87-a25ac4ac9891"
      },
      "execution_count": null,
      "outputs": [
        {
          "output_type": "stream",
          "name": "stdout",
          "text": [
            "['HELLO', 'TARUN']\n"
          ]
        }
      ]
    },
    {
      "cell_type": "code",
      "source": [
        "int= \".....HELLO TARUN....\"\n",
        "print(int.strip('.'))"
      ],
      "metadata": {
        "colab": {
          "base_uri": "https://localhost:8080/"
        },
        "id": "TWsw98ZFXtm4",
        "outputId": "bb18a528-6da4-4fc8-ee0a-1c1555ffaa61"
      },
      "execution_count": null,
      "outputs": [
        {
          "output_type": "stream",
          "name": "stdout",
          "text": [
            "HELLO TARUN\n"
          ]
        }
      ]
    },
    {
      "cell_type": "code",
      "source": [
        "int= \"HELLO TARUN \"\n",
        "print(int.replace('HELLO','GOOD'))"
      ],
      "metadata": {
        "colab": {
          "base_uri": "https://localhost:8080/"
        },
        "id": "vQtxgK6zYHNv",
        "outputId": "49ef5af6-f4c0-43cf-ca75-01da51d24864"
      },
      "execution_count": null,
      "outputs": [
        {
          "output_type": "stream",
          "name": "stdout",
          "text": [
            "GOOD TARUN \n"
          ]
        }
      ]
    },
    {
      "cell_type": "markdown",
      "source": [
        "CONcatenate string: adding the two more string in the one string"
      ],
      "metadata": {
        "id": "CO5AYVYfZxO0"
      }
    },
    {
      "cell_type": "code",
      "source": [
        "a=\"tarun\"\n",
        "b=\" pro player\"\n",
        "print(a+b)"
      ],
      "metadata": {
        "colab": {
          "base_uri": "https://localhost:8080/"
        },
        "id": "iFpbgsHGaYGd",
        "outputId": "3275562d-03c2-4ba8-af2f-2a69c85db298"
      },
      "execution_count": null,
      "outputs": [
        {
          "output_type": "stream",
          "name": "stdout",
          "text": [
            "tarun pro player\n"
          ]
        }
      ]
    },
    {
      "cell_type": "code",
      "source": [
        "a=\"tarun\"\n",
        "b=\" pro player\"\n",
        "c= a + \" \" + b\n",
        "print(c)"
      ],
      "metadata": {
        "colab": {
          "base_uri": "https://localhost:8080/"
        },
        "id": "mVJy5vRQars2",
        "outputId": "54328470-a820-42b8-d2f4-9f3909f3d838"
      },
      "execution_count": null,
      "outputs": [
        {
          "output_type": "stream",
          "name": "stdout",
          "text": [
            "tarun  pro player\n"
          ]
        }
      ]
    },
    {
      "cell_type": "markdown",
      "source": [
        "Format strings let you insert values (like variables, numbers, results) into a string it will  clean and readable way.\n",
        "\n"
      ],
      "metadata": {
        "id": "xHGTVu2DcJdq"
      }
    },
    {
      "cell_type": "code",
      "source": [
        "age =\"19\"\n",
        "name =\" my name is tarun \" +age\n",
        "print(name)"
      ],
      "metadata": {
        "colab": {
          "base_uri": "https://localhost:8080/"
        },
        "id": "5qN-wMNocQXV",
        "outputId": "373642aa-a48d-4e70-a963-b3ddbd935b3f"
      },
      "execution_count": null,
      "outputs": [
        {
          "output_type": "stream",
          "name": "stdout",
          "text": [
            " my name is tarun 19\n"
          ]
        }
      ]
    },
    {
      "cell_type": "code",
      "source": [
        "age =\"19\"\n",
        "name = f\" my name is tarun,  my {age} year old\"\n",
        "print(name)"
      ],
      "metadata": {
        "colab": {
          "base_uri": "https://localhost:8080/"
        },
        "id": "mU4_iKJbcicW",
        "outputId": "0d1b338d-2158-4a7a-8b83-641807a6dd3c"
      },
      "execution_count": null,
      "outputs": [
        {
          "output_type": "stream",
          "name": "stdout",
          "text": [
            " my name is tarun,  my 19 year old\n"
          ]
        }
      ]
    },
    {
      "cell_type": "markdown",
      "source": [
        "An escape character we can use special characters inside a string  characters that normally can't be written directly (like newlines, tabs, quotes"
      ],
      "metadata": {
        "id": "HBCtCEA5eQTO"
      }
    },
    {
      "cell_type": "code",
      "source": [
        "game =\" your \\n game\"|\n",
        "print(game)"
      ],
      "metadata": {
        "colab": {
          "base_uri": "https://localhost:8080/"
        },
        "id": "k5RvJOy_eYtj",
        "outputId": "179cf52a-67f2-4f61-895a-15882249a1bf"
      },
      "execution_count": null,
      "outputs": [
        {
          "output_type": "stream",
          "name": "stdout",
          "text": [
            " your \n",
            " game\n"
          ]
        }
      ]
    },
    {
      "cell_type": "code",
      "source": [
        "game =\" your game is \\\"over\\\"\"\n",
        "print(game)"
      ],
      "metadata": {
        "colab": {
          "base_uri": "https://localhost:8080/"
        },
        "id": "R4AYBzltgXuN",
        "outputId": "38c95333-898f-4901-9093-b78d7372b2bc"
      },
      "execution_count": null,
      "outputs": [
        {
          "output_type": "stream",
          "name": "stdout",
          "text": [
            " your game is \"over\"\n"
          ]
        }
      ]
    },
    {
      "cell_type": "markdown",
      "source": [
        "string method is a built-in function that you can call on a string object to perform common tasks, like changing case, finding text, or modifying the string.\n",
        "\n"
      ],
      "metadata": {
        "id": "SALRR7ulkmns"
      }
    },
    {
      "cell_type": "code",
      "source": [
        "text = \"Hello\"\n",
        "print(text.lower())\n"
      ],
      "metadata": {
        "colab": {
          "base_uri": "https://localhost:8080/"
        },
        "id": "4mB-TB8ckoWk",
        "outputId": "e62bba3a-680b-4b03-8f7f-b6ee16864d72"
      },
      "execution_count": null,
      "outputs": [
        {
          "output_type": "stream",
          "name": "stdout",
          "text": [
            "hello\n"
          ]
        }
      ]
    },
    {
      "cell_type": "code",
      "source": [
        "text = \"python BASICS\"\n",
        "print(text.capitalize())\n"
      ],
      "metadata": {
        "colab": {
          "base_uri": "https://localhost:8080/"
        },
        "id": "n2_0QIdakxwr",
        "outputId": "a3503280-3658-41bd-c66b-4db55cc6656d"
      },
      "execution_count": null,
      "outputs": [
        {
          "output_type": "stream",
          "name": "stdout",
          "text": [
            "Python basics\n"
          ]
        }
      ]
    },
    {
      "cell_type": "markdown",
      "source": [
        "string Boolean refers to how a string evaluates to True or False when used in conditions or logic.\n",
        "\n"
      ],
      "metadata": {
        "id": "MgglV6lRlSm9"
      }
    },
    {
      "cell_type": "code",
      "source": [
        "a = 200\n",
        "b = 33\n",
        "\n",
        "if b > a:\n",
        "  print(\"b is greater than a\")\n",
        "else:\n",
        "  print(\"b is not greater than\")"
      ],
      "metadata": {
        "colab": {
          "base_uri": "https://localhost:8080/"
        },
        "id": "-k436zkHmFNt",
        "outputId": "196b4ec7-38bc-427f-f0a1-159cfad3a6be"
      },
      "execution_count": null,
      "outputs": [
        {
          "output_type": "stream",
          "name": "stdout",
          "text": [
            "b is not greater than\n"
          ]
        }
      ]
    },
    {
      "cell_type": "markdown",
      "source": [
        "An operator in Python is a special symbol or keyword used to perform operations on values or variables.\n",
        "\n"
      ],
      "metadata": {
        "id": "OGkyvQORnjNw"
      }
    },
    {
      "cell_type": "code",
      "source": [
        "a = 22\n",
        "b = 25\n",
        "\n",
        "print(\"a + b =\", a + b)\n",
        "print(\"a - b =\", a - b)\n",
        "print(\"a * b =\", a * b)\n",
        "print(\"a or b =\", a or b)\n",
        "print(\"a % b =\", a % b)\n"
      ],
      "metadata": {
        "colab": {
          "base_uri": "https://localhost:8080/"
        },
        "id": "ZqGGGRoKnlDt",
        "outputId": "f6742ceb-3390-4a91-ee40-4fb3f82bbd03"
      },
      "execution_count": null,
      "outputs": [
        {
          "output_type": "stream",
          "name": "stdout",
          "text": [
            "a + b = 47\n",
            "a - b = -3\n",
            "a * b = 550\n",
            "a or b = 22\n",
            "a % b = 22\n"
          ]
        }
      ]
    },
    {
      "cell_type": "markdown",
      "source": [
        "A list is an ordered, changeable collection of items in Python, written using square brackets []."
      ],
      "metadata": {
        "id": "lB9L7uEVpi2G"
      }
    },
    {
      "cell_type": "code",
      "source": [
        "fruits = [\"apple\", \"banana\", \"cherry\", \"mango\"]\n",
        "print(fruits[0])\n",
        "fruits.append(\"orange\")\n",
        "fruits.remove(\"banana\")\n",
        "print(fruits)\n"
      ],
      "metadata": {
        "colab": {
          "base_uri": "https://localhost:8080/"
        },
        "id": "f97Q6cGlqRTK",
        "outputId": "a38da705-6ba7-4d61-912f-02f6bf4fbe0d"
      },
      "execution_count": null,
      "outputs": [
        {
          "output_type": "stream",
          "name": "stdout",
          "text": [
            "apple\n",
            "['apple', 'cherry', 'mango', 'orange']\n"
          ]
        }
      ]
    },
    {
      "cell_type": "code",
      "source": [
        "a = [5, 2, 9]\n",
        "b = [1, 6, 3]\n",
        "merged = a + b\n",
        "merged.sort()\n",
        "print(\"Merge & Sort:\", merged)\n"
      ],
      "metadata": {
        "colab": {
          "base_uri": "https://localhost:8080/"
        },
        "id": "wqdv3gits3U6",
        "outputId": "484e1784-3c9f-4328-fae1-42810b7738a1"
      },
      "execution_count": null,
      "outputs": [
        {
          "output_type": "stream",
          "name": "stdout",
          "text": [
            "Merge & Sort: [1, 2, 3, 5, 6, 9]\n"
          ]
        }
      ]
    },
    {
      "cell_type": "code",
      "source": [
        "nums = [7, 3, 9, 1, 5]\n",
        "nums.sort(reverse=True)\n",
        "print(\"Reverse Sort:\", nums)\n"
      ],
      "metadata": {
        "colab": {
          "base_uri": "https://localhost:8080/"
        },
        "id": "v2I_l-_7tO0-",
        "outputId": "43134165-44d6-4da5-a878-4a24ccfb3dc7"
      },
      "execution_count": null,
      "outputs": [
        {
          "output_type": "stream",
          "name": "stdout",
          "text": [
            "Reverse Sort: [9, 7, 5, 3, 1]\n"
          ]
        }
      ]
    },
    {
      "cell_type": "markdown",
      "source": [
        "List methods are built-in functions in Python that allow you to manipulate, modify, search, or manage list data"
      ],
      "metadata": {
        "id": "LEVdIZ9Burh4"
      }
    },
    {
      "cell_type": "code",
      "source": [
        "a = [1, 2, 3]\n",
        "a.append(4)\n",
        "print(a)\n"
      ],
      "metadata": {
        "colab": {
          "base_uri": "https://localhost:8080/"
        },
        "id": "m1HceHk7t7rq",
        "outputId": "e5676379-fd96-401c-e2a6-1ab6e1d6d793"
      },
      "execution_count": null,
      "outputs": [
        {
          "output_type": "stream",
          "name": "stdout",
          "text": [
            "[1, 2, 3, 4]\n"
          ]
        }
      ]
    },
    {
      "cell_type": "code",
      "source": [
        "a = [1, 3, 4]\n",
        "a.insert(1, 2)\n",
        "print(a)\n"
      ],
      "metadata": {
        "colab": {
          "base_uri": "https://localhost:8080/"
        },
        "id": "SA8CMoxit-K5",
        "outputId": "9e734156-708d-4daa-bf89-80fe12f1a8d2"
      },
      "execution_count": null,
      "outputs": [
        {
          "output_type": "stream",
          "name": "stdout",
          "text": [
            "[1, 2, 3, 4]\n"
          ]
        }
      ]
    },
    {
      "cell_type": "code",
      "source": [
        "a = [1, 2]\n",
        "a.extend([3, 4])\n",
        "print(a)\n"
      ],
      "metadata": {
        "colab": {
          "base_uri": "https://localhost:8080/"
        },
        "id": "JNYqmX40uB2K",
        "outputId": "24b3c335-5db0-43fb-919d-7fd980e5fde5"
      },
      "execution_count": null,
      "outputs": [
        {
          "output_type": "stream",
          "name": "stdout",
          "text": [
            "[1, 2, 3, 4]\n"
          ]
        }
      ]
    },
    {
      "cell_type": "code",
      "source": [
        "a = [1, 2, 3, 2]\n",
        "a.remove(2)\n",
        "print(a)\n"
      ],
      "metadata": {
        "colab": {
          "base_uri": "https://localhost:8080/"
        },
        "id": "s2yFCczSuESD",
        "outputId": "52db32e7-5d10-4036-d04e-c6d1a6d80e51"
      },
      "execution_count": null,
      "outputs": [
        {
          "output_type": "stream",
          "name": "stdout",
          "text": [
            "[1, 3, 2]\n"
          ]
        }
      ]
    },
    {
      "cell_type": "code",
      "source": [
        "a = [1, 2, 3]\n",
        "a.pop(1)\n",
        "print(a)\n"
      ],
      "metadata": {
        "colab": {
          "base_uri": "https://localhost:8080/"
        },
        "id": "V5itaXvquGcb",
        "outputId": "3aca87cc-b1d2-4235-f692-222f8a93ddc9"
      },
      "execution_count": null,
      "outputs": [
        {
          "output_type": "stream",
          "name": "stdout",
          "text": [
            "[1, 3]\n"
          ]
        }
      ]
    },
    {
      "cell_type": "code",
      "source": [
        "a = [1, 2, 3]\n",
        "a.clear()\n",
        "print(a)\n"
      ],
      "metadata": {
        "colab": {
          "base_uri": "https://localhost:8080/"
        },
        "id": "DgeuZIFfuLb3",
        "outputId": "f07013ee-ca6f-44a0-d901-ea36d467d2d5"
      },
      "execution_count": null,
      "outputs": [
        {
          "output_type": "stream",
          "name": "stdout",
          "text": [
            "[]\n"
          ]
        }
      ]
    },
    {
      "cell_type": "code",
      "source": [
        "a = [1, 2, 2, 3]\n",
        "print(a.count(2))\n"
      ],
      "metadata": {
        "colab": {
          "base_uri": "https://localhost:8080/"
        },
        "id": "vp49x6vkuSen",
        "outputId": "5941b2d2-77cd-4f81-da1c-d655a121b74f"
      },
      "execution_count": null,
      "outputs": [
        {
          "output_type": "stream",
          "name": "stdout",
          "text": [
            "2\n"
          ]
        }
      ]
    },
    {
      "cell_type": "code",
      "source": [
        "a = [3, 1, 4, 2]\n",
        "a.sort()\n",
        "print(a)\n"
      ],
      "metadata": {
        "colab": {
          "base_uri": "https://localhost:8080/"
        },
        "id": "dfKMmh_vuTzL",
        "outputId": "8c83c1b7-f4b8-4713-8fc9-5e4fd3ea85f9"
      },
      "execution_count": null,
      "outputs": [
        {
          "output_type": "stream",
          "name": "stdout",
          "text": [
            "[1, 2, 3, 4]\n"
          ]
        }
      ]
    },
    {
      "cell_type": "markdown",
      "source": [
        " tuple is an ordered, unchangeable (immutable) collection of values in Python, defined using parentheses ()."
      ],
      "metadata": {
        "id": "gxqEiYMhsMVT"
      }
    },
    {
      "cell_type": "code",
      "source": [
        "coordinates = (10, 20)\n",
        "print(coordinates[0])\n"
      ],
      "metadata": {
        "colab": {
          "base_uri": "https://localhost:8080/"
        },
        "id": "bwMB-eqtrIHi",
        "outputId": "7db2c3be-ec55-498c-bdb2-581aecd15d61"
      },
      "execution_count": null,
      "outputs": [
        {
          "output_type": "stream",
          "name": "stdout",
          "text": [
            "10\n"
          ]
        }
      ]
    },
    {
      "cell_type": "markdown",
      "source": [
        " set is an unordered, unindexed, and mutable collection of unique elements, defined using curly braces {} or the set() function.\n",
        "\n"
      ],
      "metadata": {
        "id": "WLW_qAvyvPhD"
      }
    },
    {
      "cell_type": "markdown",
      "source": [
        "No duplicates allowed\n",
        "\n",
        "Unordered (no indexing/slicing)\n",
        "\n",
        "Mutable (you can add/remove items)\n",
        "\n",
        "Elements must be immutable (like numbers, strings, tuples)\n",
        "\n"
      ],
      "metadata": {
        "id": "hzhoVhZjxFqH"
      }
    },
    {
      "cell_type": "code",
      "source": [
        "s = {1, 2, 3, 4}\n",
        "s.add(5)\n",
        "print(s)\n"
      ],
      "metadata": {
        "id": "wuVwad7uxDB2"
      },
      "execution_count": null,
      "outputs": []
    },
    {
      "cell_type": "code",
      "source": [
        "s = set()\n",
        "s.add(\"hello\")\n",
        "print(s)\n"
      ],
      "metadata": {
        "id": "JeAAL9VHxS57"
      },
      "execution_count": null,
      "outputs": []
    },
    {
      "cell_type": "markdown",
      "source": [
        "Set methods are built-in Python functions that allow you to add, remove, combine, or compare elements within sets"
      ],
      "metadata": {
        "id": "2JSCBuW3yNJ3"
      }
    },
    {
      "cell_type": "code",
      "source": [
        "s = {1, 2, 3}\n",
        "\n",
        "s.add(4)\n",
        "print(s)\n",
        "\n",
        "s.update([5, 6])\n",
        "print(s)\n",
        "\n",
        "s.remove(2)\n",
        "print(s)\n",
        "\n",
        "s.discard(3)\n",
        "print(s)\n",
        "\n",
        "s.pop()\n",
        "print(s)\n",
        "\n",
        "s.clear()\n",
        "print(s)\n"
      ],
      "metadata": {
        "colab": {
          "base_uri": "https://localhost:8080/"
        },
        "id": "qYgxwMuCyQEb",
        "outputId": "a87bef2c-c111-4594-f20a-5802cef21422"
      },
      "execution_count": null,
      "outputs": [
        {
          "output_type": "stream",
          "name": "stdout",
          "text": [
            "{1, 2, 3, 4}\n",
            "{1, 2, 3, 4, 5, 6}\n",
            "{1, 3, 4, 5, 6}\n",
            "{1, 4, 5, 6}\n",
            "{4, 5, 6}\n",
            "set()\n"
          ]
        }
      ]
    },
    {
      "cell_type": "markdown",
      "source": [
        "A dictionary is an unordered, mutable collection of key-value pairs in Python, written using curly braces {} with a colon : between keys and values.\n",
        "\n"
      ],
      "metadata": {
        "id": "Gn_o22TTy_Tf"
      }
    },
    {
      "cell_type": "code",
      "source": [
        "student = {\"name\": \"Tarun\", \"age\": 21, \"grade\": \"A\"}\n",
        "\n",
        "for key in student:\n",
        "    print(key, student[key])\n"
      ],
      "metadata": {
        "colab": {
          "base_uri": "https://localhost:8080/"
        },
        "id": "6TfxB6RY0cHO",
        "outputId": "588a6c8d-b659-432f-bde5-898f77acaec0"
      },
      "execution_count": null,
      "outputs": [
        {
          "output_type": "stream",
          "name": "stdout",
          "text": [
            "name Tarun\n",
            "age 21\n",
            "grade A\n"
          ]
        }
      ]
    },
    {
      "cell_type": "code",
      "source": [
        "student = {\"name\": \"Tarun\", \"age\": 20, \"grade\": \"A\"}\n",
        "print(student[\"name\"])\n"
      ],
      "metadata": {
        "colab": {
          "base_uri": "https://localhost:8080/"
        },
        "id": "nHegHr6i0i6Y",
        "outputId": "9b838f64-10ac-4d10-9636-e48ad2585b43"
      },
      "execution_count": null,
      "outputs": [
        {
          "output_type": "stream",
          "name": "stdout",
          "text": [
            "Tarun\n"
          ]
        }
      ]
    },
    {
      "cell_type": "code",
      "source": [
        "team = {\n",
        "    \"player1\": {\"name\": \"Tarun\", \"score\": 95},\n",
        "    \"player2\": {\"name\": \"Ava\", \"score\": 88}\n",
        "}\n",
        "\n",
        "for player, details in team.items():\n",
        "    print(player)\n",
        "    for key, value in details.items():\n",
        "        print(key, value)\n"
      ],
      "metadata": {
        "colab": {
          "base_uri": "https://localhost:8080/"
        },
        "id": "6SnwmVuG0qeh",
        "outputId": "6c7f7578-3d99-4b71-9ced-ed3a3dd4800f"
      },
      "execution_count": null,
      "outputs": [
        {
          "output_type": "stream",
          "name": "stdout",
          "text": [
            "player1\n",
            "name Tarun\n",
            "score 95\n",
            "player2\n",
            "name Ava\n",
            "score 88\n"
          ]
        }
      ]
    },
    {
      "cell_type": "markdown",
      "source": [
        "conditional statements"
      ],
      "metadata": {
        "id": "2N8gWF_AG_Xl"
      }
    },
    {
      "cell_type": "markdown",
      "source": [
        " if statement :Executes a block of code only if the condition is True"
      ],
      "metadata": {
        "id": "eN9849lxHRBF"
      }
    },
    {
      "cell_type": "code",
      "source": [
        "a=13\n",
        "b=14\n",
        "if a > b:\n",
        "  print(\"a is lessthan b\")"
      ],
      "metadata": {
        "id": "DVYoVu82HhuB"
      },
      "execution_count": null,
      "outputs": []
    },
    {
      "cell_type": "markdown",
      "source": [
        "else :Executes one block if True, another block if False."
      ],
      "metadata": {
        "id": "y5mzu3kFHsY0"
      }
    },
    {
      "cell_type": "code",
      "source": [
        "age = 16\n",
        "if age >= 18:\n",
        "    print(\"You can vote\")\n",
        "else:\n",
        "    print(\"give me valid input\")\n"
      ],
      "metadata": {
        "colab": {
          "base_uri": "https://localhost:8080/"
        },
        "id": "5zxGPGb5Hqii",
        "outputId": "5e9b1ae6-c812-4b27-a3cb-5a014d66172d"
      },
      "execution_count": null,
      "outputs": [
        {
          "output_type": "stream",
          "name": "stdout",
          "text": [
            "give me valid input\n"
          ]
        }
      ]
    },
    {
      "cell_type": "markdown",
      "source": [
        "else if :Checks multiple conditions. The first True block runs.\n"
      ],
      "metadata": {
        "id": "NAriiO2aH7Ii"
      }
    },
    {
      "cell_type": "code",
      "source": [
        "marks = 75\n",
        "if marks >= 90:\n",
        "    print(\"Grade A\")\n",
        "elif marks >= 70:\n",
        "    print(\"Grade B\")\n",
        "else:\n",
        "    print(\"Grade C\")\n"
      ],
      "metadata": {
        "colab": {
          "base_uri": "https://localhost:8080/"
        },
        "id": "3Y8-MFq7IF_M",
        "outputId": "16f40b08-66ec-43eb-9f96-5638229efe49"
      },
      "execution_count": null,
      "outputs": [
        {
          "output_type": "stream",
          "name": "stdout",
          "text": [
            "Grade B\n"
          ]
        }
      ]
    },
    {
      "cell_type": "markdown",
      "source": [
        "nested if :A nested if means using one if statement inside another. It lets you check multiple conditions in layers"
      ],
      "metadata": {
        "id": "XPvYXYttJA8R"
      }
    },
    {
      "cell_type": "code",
      "source": [
        "age = 20\n",
        "citizen = True\n",
        "\n",
        "if age >= 18:\n",
        "    if citizen:\n",
        "        print(\"You are eligible to vote\")\n",
        "    else:\n",
        "        print(\"You must be a citizen to vote\")\n",
        "else:\n",
        "    print(\"You are not old enough to vote\")\n"
      ],
      "metadata": {
        "id": "nGyS9QaAJIWr"
      },
      "execution_count": null,
      "outputs": []
    },
    {
      "cell_type": "code",
      "source": [
        "a=\"khub\"\n",
        "print(a[::-1])"
      ],
      "metadata": {
        "colab": {
          "base_uri": "https://localhost:8080/"
        },
        "id": "VS0YLnefJ51e",
        "outputId": "44986e12-d218-4c5d-8041-6949cdb8b51e"
      },
      "execution_count": null,
      "outputs": [
        {
          "output_type": "stream",
          "name": "stdout",
          "text": [
            "buhk\n"
          ]
        }
      ]
    },
    {
      "cell_type": "markdown",
      "source": [
        "match:The match statement is used for pattern matching, similar to switch-case in other languages"
      ],
      "metadata": {
        "id": "u9arnpeHOnJ_"
      }
    },
    {
      "cell_type": "code",
      "source": [
        "compliment = \"good\"\n",
        "match compliment:\n",
        "  case \"exellent\":\n",
        "    print(\"A\")\n",
        "  case \"good\":\n",
        "    print(\"B\")\n",
        "  case \"average\":\n",
        "    print(\"c\")\n",
        "  case _:\n",
        "    print(\"F\")"
      ],
      "metadata": {
        "colab": {
          "base_uri": "https://localhost:8080/"
        },
        "id": "-_L6EsvvO0By",
        "outputId": "6fc226e2-0410-400e-e878-0a5163ca2ec8"
      },
      "execution_count": null,
      "outputs": [
        {
          "output_type": "stream",
          "name": "stdout",
          "text": [
            "B\n"
          ]
        }
      ]
    }
  ]
}